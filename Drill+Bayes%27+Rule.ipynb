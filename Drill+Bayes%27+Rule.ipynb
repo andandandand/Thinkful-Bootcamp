{
 "cells": [
  {
   "cell_type": "markdown",
   "metadata": {},
   "source": [
    "Problem 1\n",
    "0.98*0.005 + 0.1*0.995\n",
    "\n",
    "Problem 2\n",
    "0.98\n",
    "\n",
    "Problem 3\n",
    "0.1 is false positive, hence 0.9 is true positive\n",
    "\n",
    "Problem 4\n",
    "Not sure how to approach this problem"
   ]
  }
 ],
 "metadata": {
  "kernelspec": {
   "display_name": "Python 3",
   "language": "python",
   "name": "python3"
  },
  "language_info": {
   "codemirror_mode": {
    "name": "ipython",
    "version": 3
   },
   "file_extension": ".py",
   "mimetype": "text/x-python",
   "name": "python",
   "nbconvert_exporter": "python",
   "pygments_lexer": "ipython3",
   "version": "3.6.3"
  }
 },
 "nbformat": 4,
 "nbformat_minor": 2
}
