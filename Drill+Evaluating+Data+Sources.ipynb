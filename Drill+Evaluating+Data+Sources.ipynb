{
 "cells": [
  {
   "cell_type": "markdown",
   "metadata": {},
   "source": [
    "Problem 1\n",
    "Shortcoming would be that it is Christmas eve, and would not reflect true prices of accommodation, but rather the prices will be spiked due to high demand.\n",
    "\n",
    "Problem 2\n",
    "New York residents were truamatized around this date.\n",
    "\n",
    "Problem 3\n",
    "#Hoa, what is WTS in the data frame?\n",
    "Ages showing people aged belowed 20, and all occupations student. POssibly cheap beer, or near a student accommodation/university."
   ]
  },
  {
   "cell_type": "code",
   "execution_count": null,
   "metadata": {
    "collapsed": true
   },
   "outputs": [],
   "source": []
  }
 ],
 "metadata": {
  "kernelspec": {
   "display_name": "Python 3",
   "language": "python",
   "name": "python3"
  },
  "language_info": {
   "codemirror_mode": {
    "name": "ipython",
    "version": 3
   },
   "file_extension": ".py",
   "mimetype": "text/x-python",
   "name": "python",
   "nbconvert_exporter": "python",
   "pygments_lexer": "ipython3",
   "version": "3.6.3"
  }
 },
 "nbformat": 4,
 "nbformat_minor": 2
}
