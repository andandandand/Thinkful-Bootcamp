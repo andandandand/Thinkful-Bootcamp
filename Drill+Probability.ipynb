{
 "cells": [
  {
   "cell_type": "markdown",
   "metadata": {},
   "source": [
    "Problem 1\n",
    "0.5*0.5*0.5*0.5\n",
    "\n",
    "Problem 2 \n",
    "24/45\n",
    "\n",
    "Problem 3\n",
    "0.10*0.00005\n",
    "\n",
    "Problem 4\n",
    "People could just leave the tab open and not actually be surfing the site."
   ]
  }
 ],
 "metadata": {
  "kernelspec": {
   "display_name": "Python 3",
   "language": "python",
   "name": "python3"
  },
  "language_info": {
   "codemirror_mode": {
    "name": "ipython",
    "version": 3
   },
   "file_extension": ".py",
   "mimetype": "text/x-python",
   "name": "python",
   "nbconvert_exporter": "python",
   "pygments_lexer": "ipython3",
   "version": "3.6.3"
  }
 },
 "nbformat": 4,
 "nbformat_minor": 2
}
